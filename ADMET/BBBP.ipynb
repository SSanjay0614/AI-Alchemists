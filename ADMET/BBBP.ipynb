{
 "cells": [
  {
   "cell_type": "markdown",
   "id": "2c3cb7b8-63ed-4972-8763-b30b4dbb7d03",
   "metadata": {},
   "source": [
    "### BBBP\n",
    "As a membrane separating circulating blood and brain extracellular fluid, the blood-brain barrier (BBB) is the protection layer that blocks most foreign drugs. Thus the ability of a drug to penetrate the barrier to deliver to the site of action forms a crucial challenge in development of drugs for central nervous system From MoleculeNet."
   ]
  },
  {
   "cell_type": "code",
   "execution_count": 10,
   "id": "3b3445e8-2d82-4434-a54a-d459abf98aa7",
   "metadata": {},
   "outputs": [],
   "source": [
    "import numpy as np\n",
    "from sklearn.ensemble import RandomForestClassifier\n",
    "from sklearn.metrics import roc_auc_score, accuracy_score\n",
    "from tdc.single_pred.adme import ADME\n",
    "from tdc import Evaluator\n",
    "from rdkit import Chem\n",
    "from rdkit.Chem import AllChem\n",
    "import pickle\n",
    "import pandas as pd"
   ]
  },
  {
   "cell_type": "code",
   "execution_count": 2,
   "id": "09aa7d99-9f24-4ca1-b998-f2c3eb695f86",
   "metadata": {},
   "outputs": [],
   "source": [
    "class Featurizer:\n",
    "    def __init__(self, y_column, smiles_col='Drug', **kwargs):\n",
    "        self.y_column = y_column\n",
    "        self.smiles_col = smiles_col\n",
    "        self.__dict__.update(kwargs)\n",
    "\n",
    "    def __call__(self, df):\n",
    "        raise NotImplementedError()\n",
    "\n",
    "class ECFPFeaturizer(Featurizer):\n",
    "    def __init__(self, y_column, radius=2, length=1024, **kwargs):\n",
    "        self.radius = radius\n",
    "        self.length = length\n",
    "        super().__init__(y_column, **kwargs)\n",
    "\n",
    "    def __call__(self, df):\n",
    "        fingerprints = []\n",
    "        labels = []\n",
    "        for i, row in df.iterrows():\n",
    "            y = row[self.y_column]\n",
    "            smiles = row[self.smiles_col]\n",
    "            mol = Chem.MolFromSmiles(smiles)\n",
    "            fp = AllChem.GetMorganFingerprintAsBitVect(mol, self.radius, nBits=self.length)\n",
    "            fingerprints.append(fp)\n",
    "            labels.append(y)\n",
    "        fingerprints = np.array(fingerprints)\n",
    "        labels = np.array(labels)\n",
    "        return fingerprints, labels\n"
   ]
  },
  {
   "cell_type": "code",
   "execution_count": 3,
   "id": "f588c373-936d-44b5-bff1-adcb2647ce63",
   "metadata": {},
   "outputs": [],
   "source": [
    "def train(X_train, y_train, X_valid, y_valid):\n",
    "    model = RandomForestClassifier(n_estimators=100, random_state=42)\n",
    "    model.fit(X_train, y_train)\n",
    "\n",
    "    # Evaluate on the validation set\n",
    "    val_predictions = model.predict_proba(X_valid)[:, 1]  # Probability for class 1\n",
    "    val_preds_class = model.predict(X_valid)  # Predicted class labels\n",
    "    roc_auc_val = roc_auc_score(y_valid, val_predictions)\n",
    "    accuracy_val = accuracy_score(y_valid, val_preds_class)\n",
    "    print(f'Validation ROC AUC: {roc_auc_val}, Accuracy: {accuracy_val}')\n",
    "    \n",
    "    return model\n"
   ]
  },
  {
   "cell_type": "code",
   "execution_count": 4,
   "id": "18faee73-d82a-4d3a-a37b-f66768aea345",
   "metadata": {},
   "outputs": [],
   "source": [
    "def predict(model, X_test):\n",
    "    test_predictions_proba = model.predict_proba(X_test)[:, 1]  # Probability for class 1\n",
    "    test_predictions_class = model.predict(X_test)  # Predicted class labels\n",
    "    return test_predictions_proba, test_predictions_class\n"
   ]
  },
  {
   "cell_type": "code",
   "execution_count": 5,
   "id": "c70a403b-cd03-4a99-b054-a3ddddf3cdff",
   "metadata": {},
   "outputs": [
    {
     "name": "stderr",
     "output_type": "stream",
     "text": [
      "Found local copy...\n",
      "Loading...\n",
      "Done!\n",
      "100%|████████████████████████████████████████████████████████████████████████████| 2030/2030 [00:00<00:00, 2055.13it/s]\n"
     ]
    }
   ],
   "source": [
    "# Load the BBBP dataset\n",
    "data = ADME('bbb_martins')\n",
    "split = data.get_split(method='scaffold')\n",
    "\n",
    "# Featurizer to generate molecular fingerprints\n",
    "featurizer = ECFPFeaturizer(y_column='Y')\n",
    "\n",
    "X_train, y_train = featurizer(split['train'])\n",
    "X_valid, y_valid = featurizer(split['valid'])\n",
    "X_test, y_test = featurizer(split['test'])\n"
   ]
  },
  {
   "cell_type": "code",
   "execution_count": 6,
   "id": "76089aa9-9d63-48d2-b534-1339da672b83",
   "metadata": {},
   "outputs": [
    {
     "name": "stdout",
     "output_type": "stream",
     "text": [
      "Validation ROC AUC: 0.836410512308716, Accuracy: 0.8916256157635468\n",
      "Test ROC AUC: 0.873964196372733, Accuracy: 0.8817733990147784\n"
     ]
    }
   ],
   "source": [
    "# Train the model\n",
    "model = train(X_train, y_train, X_valid, y_valid)\n",
    "\n",
    "# Make predictions on the test set\n",
    "predictions_proba, predictions_class = predict(model, X_test)\n",
    "\n",
    "# Evaluate on the test set\n",
    "roc_auc_test = roc_auc_score(y_test, predictions_proba)\n",
    "accuracy_test = accuracy_score(y_test, predictions_class)\n",
    "\n",
    "print(f'Test ROC AUC: {roc_auc_test}, Accuracy: {accuracy_test}')\n"
   ]
  },
  {
   "cell_type": "code",
   "execution_count": 15,
   "id": "286e96ea-2d6c-4813-a210-b8afedaa5438",
   "metadata": {},
   "outputs": [],
   "source": [
    "# Save the trained model to a pickle file\n",
    "with open('BBBP_model.pkl', 'wb') as f:\n",
    "    pickle.dump(model, f)\n"
   ]
  },
  {
   "cell_type": "code",
   "execution_count": 12,
   "id": "6b8e096a-0690-44fe-9850-1a01387bfe3f",
   "metadata": {},
   "outputs": [
    {
     "name": "stdout",
     "output_type": "stream",
     "text": [
      "Predicted Class: 1\n",
      "Predicted Probability for Class 1: 0.96\n"
     ]
    }
   ],
   "source": [
    "class Featurizer:\n",
    "    def __init__(self, y_column=None, smiles_col='Drug', **kwargs):\n",
    "        self.y_column = y_column\n",
    "        self.smiles_col = smiles_col\n",
    "        self.__dict__.update(kwargs)\n",
    "\n",
    "    def __call__(self, df):\n",
    "        raise NotImplementedError()\n",
    "\n",
    "# ECFP Featurizer for molecular fingerprint generation\n",
    "class ECFPFeaturizer(Featurizer):\n",
    "    def __init__(self, y_column=None, radius=2, length=1024, **kwargs):\n",
    "        self.radius = radius\n",
    "        self.length = length\n",
    "        super().__init__(y_column, **kwargs)\n",
    "\n",
    "    def __call__(self, df):\n",
    "        fingerprints = []\n",
    "        labels = []\n",
    "        for i, row in df.iterrows():\n",
    "            smiles = row[self.smiles_col]\n",
    "            mol = Chem.MolFromSmiles(smiles)\n",
    "            fp = AllChem.GetMorganFingerprintAsBitVect(mol, self.radius, nBits=self.length)\n",
    "            fingerprints.append(fp)\n",
    "            \n",
    "            # Only add label if y_column exists (not needed for single SMILES prediction)\n",
    "            if self.y_column and self.y_column in df.columns:\n",
    "                y = row[self.y_column]\n",
    "                labels.append(y)\n",
    "\n",
    "        fingerprints = np.array(fingerprints)\n",
    "        labels = np.array(labels) if labels else None\n",
    "        return fingerprints, labels\n",
    "\n",
    "\n",
    "# Load the trained model from the pickle file\n",
    "with open('BBBP_model.pkl', 'rb') as f:\n",
    "    model = pickle.load(f)\n",
    "\n",
    "# Initialize the featurizer (without a y_column for prediction)\n",
    "featurizer = ECFPFeaturizer(smiles_col='Drug')  # y_column not needed for predictions\n",
    "\n",
    "# Example SMILES string for prediction\n",
    "smiles_string = \"CCCCCC1=CC2=C(C3C=C(CCC3C(O2)(C)C)C)C(=C1)O\"  # Example SMILES (ethanol)\n",
    "\n",
    "# Make predictions for the single SMILES string\n",
    "predicted_class, predicted_probability = predict_single_smiles(smiles_string, model, featurizer)\n",
    "\n",
    "# Output the predictions\n",
    "print(f'Predicted Class: {predicted_class}')\n",
    "print(f'Predicted Probability for Class 1: {predicted_probability}')"
   ]
  },
  {
   "cell_type": "code",
   "execution_count": 13,
   "id": "8d7837ef-904e-43d3-988c-ab2adc54e925",
   "metadata": {},
   "outputs": [],
   "source": [
    "# Function to predict for a single SMILES string\n",
    "def predict_single_smiles(smiles, model, featurizer):\n",
    "    # Create a dataframe for the single SMILES string (since the featurizer expects a dataframe)\n",
    "    df = pd.DataFrame({featurizer.smiles_col: [smiles]})\n",
    "\n",
    "    # Featurize the SMILES string\n",
    "    X_new, _ = featurizer(df)  # We don't need the labels here, so they can be ignored\n",
    "\n",
    "    # Make prediction (predict_proba returns probabilities for each class)\n",
    "    prediction_proba = model.predict_proba(X_new)[:, 1]  # Probability for class 1\n",
    "    prediction_class = model.predict(X_new)  # Predicted class label\n",
    "\n",
    "    return prediction_class[0], prediction_proba[0]"
   ]
  },
  {
   "cell_type": "code",
   "execution_count": 14,
   "id": "28389d65-6087-4ff1-8e4d-946eeb01ee3c",
   "metadata": {},
   "outputs": [
    {
     "name": "stdout",
     "output_type": "stream",
     "text": [
      "Predicted Class: 1\n",
      "Predicted Probability for Class 1: 0.96\n"
     ]
    }
   ],
   "source": [
    "# Load the trained model from the pickle file\n",
    "with open('BBBP_model.pkl', 'rb') as f:\n",
    "    model = pickle.load(f)\n",
    "\n",
    "# Initialize the featurizer (without a y_column for prediction)\n",
    "featurizer = ECFPFeaturizer(smiles_col='Drug')  # y_column not needed for predictions\n",
    "\n",
    "# Example SMILES string for prediction\n",
    "smiles_string = \"CCCCCC1=CC2=C(C3C=C(CCC3C(O2)(C)C)C)C(=C1)O\"  # Example SMILES   CCCCCC1=CC2=C(C3C=C(CCC3C(O2)(C)C)C)C(=C1)O\n",
    "\n",
    "# Make predictions for the single SMILES string\n",
    "predicted_class, predicted_probability = predict_single_smiles(smiles_string, model, featurizer)\n",
    "\n",
    "# Output the predictions\n",
    "print(f'Predicted Class: {predicted_class}')\n",
    "print(f'Predicted Probability for Class 1: {predicted_probability}')"
   ]
  },
  {
   "cell_type": "code",
   "execution_count": null,
   "id": "aff499db-b20f-483e-b3fe-2e74ef0265aa",
   "metadata": {},
   "outputs": [],
   "source": []
  }
 ],
 "metadata": {
  "kernelspec": {
   "display_name": "Python 3 (ipykernel)",
   "language": "python",
   "name": "python3"
  },
  "language_info": {
   "codemirror_mode": {
    "name": "ipython",
    "version": 3
   },
   "file_extension": ".py",
   "mimetype": "text/x-python",
   "name": "python",
   "nbconvert_exporter": "python",
   "pygments_lexer": "ipython3",
   "version": "3.10.14"
  }
 },
 "nbformat": 4,
 "nbformat_minor": 5
}
