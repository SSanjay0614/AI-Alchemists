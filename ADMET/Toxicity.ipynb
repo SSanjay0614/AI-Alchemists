{
 "cells": [
  {
   "cell_type": "code",
   "execution_count": 1,
   "id": "b7869273-5f27-4586-b331-f4791514e272",
   "metadata": {},
   "outputs": [],
   "source": [
    "import numpy as np\n",
    "from sklearn.ensemble import RandomForestClassifier\n",
    "from sklearn.metrics import roc_auc_score, accuracy_score\n",
    "from tdc.single_pred.adme import ADME\n",
    "from tdc import Evaluator\n",
    "from rdkit import Chem\n",
    "from rdkit.Chem import AllChem\n",
    "import pickle\n",
    "import pandas as pd\n",
    "from sklearn.model_selection import train_test_split"
   ]
  },
  {
   "cell_type": "code",
   "execution_count": 2,
   "id": "9661b1e9-0c4f-4931-9b3e-5b99abe5855c",
   "metadata": {},
   "outputs": [],
   "source": [
    "class Featurizer:\n",
    "    def __init__(self, y_column, smiles_col='Drug', **kwargs):\n",
    "        self.y_column = y_column\n",
    "        self.smiles_col = smiles_col\n",
    "        self.__dict__.update(kwargs)\n",
    "\n",
    "    def __call__(self, df):\n",
    "        raise NotImplementedError()\n",
    "\n",
    "class ECFPFeaturizer(Featurizer):\n",
    "    def __init__(self, y_column, radius=2, length=1024, **kwargs):\n",
    "        self.radius = radius\n",
    "        self.length = length\n",
    "        super().__init__(y_column, **kwargs)\n",
    "\n",
    "    def __call__(self, df):\n",
    "        fingerprints = []\n",
    "        labels = []\n",
    "        for i, row in df.iterrows():\n",
    "            y = row[self.y_column]\n",
    "            smiles = row[self.smiles_col]\n",
    "            mol = Chem.MolFromSmiles(smiles)\n",
    "            fp = AllChem.GetMorganFingerprintAsBitVect(mol, self.radius, nBits=self.length)\n",
    "            fingerprints.append(fp)\n",
    "            labels.append(y)\n",
    "        fingerprints = np.array(fingerprints)\n",
    "        labels = np.array(labels)\n",
    "        return fingerprints, labels\n"
   ]
  },
  {
   "cell_type": "code",
   "execution_count": 3,
   "id": "e9c0e60c-b5d0-4906-8794-f1ffe6c4e920",
   "metadata": {},
   "outputs": [],
   "source": [
    "def train(X_train, y_train, X_valid, y_valid):\n",
    "    model = RandomForestClassifier(n_estimators=100, random_state=42)\n",
    "    model.fit(X_train, y_train)\n",
    "\n",
    "    # Evaluate on the validation set\n",
    "    val_predictions = model.predict_proba(X_valid)[:, 1]  # Probability for class 1\n",
    "    val_preds_class = model.predict(X_valid)  # Predicted class labels\n",
    "    roc_auc_val = roc_auc_score(y_valid, val_predictions)\n",
    "    accuracy_val = accuracy_score(y_valid, val_preds_class)\n",
    "    print(f'Validation ROC AUC: {roc_auc_val}, Accuracy: {accuracy_val}')\n",
    "    \n",
    "    return model\n"
   ]
  },
  {
   "cell_type": "code",
   "execution_count": 4,
   "id": "40a117bb-51d5-4704-ab36-2a7615206ac8",
   "metadata": {},
   "outputs": [],
   "source": [
    "def predict(model, X_test):\n",
    "    test_predictions_proba = model.predict_proba(X_test)[:, 1]  # Probability for class 1\n",
    "    test_predictions_class = model.predict(X_test)  # Predicted class labels\n",
    "    return test_predictions_proba, test_predictions_class\n"
   ]
  },
  {
   "cell_type": "code",
   "execution_count": 6,
   "id": "b9b0b088-9623-4b5c-a65e-982289d2d55f",
   "metadata": {},
   "outputs": [],
   "source": [
    "data = pd.read_csv('herg_karim.tab', sep='\\t')\n",
    "\n",
    "# Split the data into features and target variable\n",
    "X = data.drop(columns=['Y'])  # Features\n",
    "y = data['Y']  # Target variable\n",
    "\n",
    "# Split the data into training (70%), validation (15%), and test (15%) sets\n",
    "X_train, X_temp, y_train, y_temp = train_test_split(X, y, test_size=0.3, random_state=42)\n",
    "X_valid, X_test, y_valid, y_test = train_test_split(X_temp, y_temp, test_size=0.5, random_state=42)\n",
    "\n",
    "# Re-add the target variable to the features for each split\n",
    "X_train['Y'] = y_train.values\n",
    "X_valid['Y'] = y_valid.values\n",
    "X_test['Y'] = y_test.values\n",
    "\n",
    "# Featurizer to generate molecular fingerprints\n",
    "featurizer = ECFPFeaturizer(y_column='Y', smiles_col='Drug')  # Ensure the SMILES column name is correct\n",
    "\n",
    "# Apply featurizer to generate fingerprints\n",
    "X_train_featurized, y_train_featurized = featurizer(X_train)\n",
    "X_valid_featurized, y_valid_featurized = featurizer(X_valid)\n",
    "X_test_featurized, y_test_featurized = featurizer(X_test)"
   ]
  },
  {
   "cell_type": "code",
   "execution_count": 8,
   "id": "0c82f698-c158-4f6e-96dc-6bda98fba5e3",
   "metadata": {},
   "outputs": [
    {
     "name": "stdout",
     "output_type": "stream",
     "text": [
      "Validation ROC AUC: 0.9218535205838566, Accuracy: 0.8383738225086762\n",
      "Test ROC AUC: 0.9159759584375542, Accuracy: 0.8363906792265742\n"
     ]
    }
   ],
   "source": [
    "# Train the model\n",
    "model = train(X_train_featurized, y_train_featurized, X_valid_featurized, y_valid_featurized)\n",
    "\n",
    "# Make predictions on the test set\n",
    "predictions_proba, predictions_class = predict(model, X_test_featurized)\n",
    "\n",
    "# Evaluate on the test set\n",
    "roc_auc_test = roc_auc_score(y_test_featurized, predictions_proba)\n",
    "accuracy_test = accuracy_score(y_test_featurized, predictions_class)\n",
    "\n",
    "print(f'Test ROC AUC: {roc_auc_test}, Accuracy: {accuracy_test}')\n"
   ]
  },
  {
   "cell_type": "code",
   "execution_count": 9,
   "id": "fb679c47-fff4-4c9d-a766-b7680f35e4f9",
   "metadata": {},
   "outputs": [],
   "source": [
    "# Save the trained model to a pickle file\n",
    "with open('toxicity_model.pkl', 'wb') as f:\n",
    "    pickle.dump(model, f)\n"
   ]
  },
  {
   "cell_type": "code",
   "execution_count": 11,
   "id": "0f710a97-2847-498a-a9a2-80e406d89752",
   "metadata": {},
   "outputs": [],
   "source": [
    "# Function to predict for a single SMILES string\n",
    "def predict_single_smiles(smiles, model, featurizer):\n",
    "    # Create a dataframe for the single SMILES string (since the featurizer expects a dataframe)\n",
    "    df = pd.DataFrame({featurizer.smiles_col: [smiles]})\n",
    "\n",
    "    # Featurize the SMILES string\n",
    "    X_new, _ = featurizer(df)  # We don't need the labels here, so they can be ignored\n",
    "\n",
    "    # Make prediction (predict_proba returns probabilities for each class)\n",
    "    prediction_proba = model.predict_proba(X_new)[:, 1]  # Probability for class 1\n",
    "    prediction_class = model.predict(X_new)  # Predicted class label\n",
    "\n",
    "    return prediction_class[0], prediction_proba[0]"
   ]
  },
  {
   "cell_type": "code",
   "execution_count": 13,
   "id": "4e18e344-db21-4e91-aaf2-d2a4d4357b20",
   "metadata": {},
   "outputs": [
    {
     "name": "stdout",
     "output_type": "stream",
     "text": [
      "Predicted Class: 0\n",
      "Predicted Probability for Class 1: 0.255\n"
     ]
    }
   ],
   "source": [
    "class Featurizer:\n",
    "    def __init__(self, y_column=None, smiles_col='Drug', **kwargs):\n",
    "        self.y_column = y_column\n",
    "        self.smiles_col = smiles_col\n",
    "        self.__dict__.update(kwargs)\n",
    "\n",
    "    def __call__(self, df):\n",
    "        raise NotImplementedError()\n",
    "\n",
    "# ECFP Featurizer for molecular fingerprint generation\n",
    "class ECFPFeaturizer(Featurizer):\n",
    "    def __init__(self, y_column=None, radius=2, length=1024, **kwargs):\n",
    "        self.radius = radius\n",
    "        self.length = length\n",
    "        super().__init__(y_column, **kwargs)\n",
    "\n",
    "    def __call__(self, df):\n",
    "        fingerprints = []\n",
    "        labels = []\n",
    "        for i, row in df.iterrows():\n",
    "            smiles = row[self.smiles_col]\n",
    "            mol = Chem.MolFromSmiles(smiles)\n",
    "            fp = AllChem.GetMorganFingerprintAsBitVect(mol, self.radius, nBits=self.length)\n",
    "            fingerprints.append(fp)\n",
    "            \n",
    "            # Only add label if y_column exists (not needed for single SMILES prediction)\n",
    "            if self.y_column and self.y_column in df.columns:\n",
    "                y = row[self.y_column]\n",
    "                labels.append(y)\n",
    "\n",
    "        fingerprints = np.array(fingerprints)\n",
    "        labels = np.array(labels) if labels else None\n",
    "        return fingerprints, labels\n",
    "\n",
    "\n",
    "# Load the trained model from the pickle file\n",
    "with open('BBBP_model.pkl', 'rb') as f:\n",
    "    model = pickle.load(f)\n",
    "\n",
    "# Initialize the featurizer (without a y_column for prediction)\n",
    "featurizer = ECFPFeaturizer(smiles_col='Drug')  # y_column not needed for predictions\n",
    "\n",
    "# Example SMILES string for prediction\n",
    "smiles_string = \"CC(C)CC1=CC=C(C=C1)C(C)C(=O)O\"  # Example SMILES (ethanol)\n",
    "\n",
    "# Make predictions for the single SMILES string\n",
    "predicted_class, predicted_probability = predict_single_smiles(smiles_string, model, featurizer)\n",
    "\n",
    "# Output the predictions\n",
    "print(f'Predicted Class: {predicted_class}')\n",
    "print(f'Predicted Probability for Class 1: {predicted_probability}')"
   ]
  },
  {
   "cell_type": "code",
   "execution_count": null,
   "id": "e0945dc0-48ed-4d92-b660-e4871abd9d3f",
   "metadata": {},
   "outputs": [],
   "source": []
  }
 ],
 "metadata": {
  "kernelspec": {
   "display_name": "Python 3 (ipykernel)",
   "language": "python",
   "name": "python3"
  },
  "language_info": {
   "codemirror_mode": {
    "name": "ipython",
    "version": 3
   },
   "file_extension": ".py",
   "mimetype": "text/x-python",
   "name": "python",
   "nbconvert_exporter": "python",
   "pygments_lexer": "ipython3",
   "version": "3.10.14"
  }
 },
 "nbformat": 4,
 "nbformat_minor": 5
}
